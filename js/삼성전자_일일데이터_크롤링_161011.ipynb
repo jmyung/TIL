{
 "cells": [
  {
   "cell_type": "code",
   "execution_count": 447,
   "metadata": {
    "collapsed": true
   },
   "outputs": [],
   "source": [
    "import requests\n",
    "from bs4 import BeautifulSoup\n",
    "import urllib"
   ]
  },
  {
   "cell_type": "code",
   "execution_count": 450,
   "metadata": {
    "collapsed": true
   },
   "outputs": [],
   "source": [
    "# 1~ 513 페이지를 네비게이션하면서 1996년도에서 오늘까지의 일일 종가 데이터를 가져온다.\n",
    "domain = 'http://finance.naver.com/item/sise_day.nhn?code=005930&page='"
   ]
  },
  {
   "cell_type": "code",
   "execution_count": 451,
   "metadata": {
    "collapsed": false
   },
   "outputs": [],
   "source": [
    "list = []\n",
    "\n",
    "#for page in range(1,513) :\n",
    "for page in range(1,5) :\n",
    "    url = domain + str(page)\n",
    "    source_code = requests.get(url, timeout=None)\n",
    "    soup = BeautifulSoup(source_code.text,  'lxml')\n",
    "    tableSoup = soup.find('table', attrs={'class', 'type2'} )\n",
    "    trSoup = tableSoup.find_all('tr')\n",
    "    i = 0\n",
    "    rowcount =0;\n",
    "    \n",
    "    for tr in  trSoup :\n",
    "      i = i + 1\n",
    "      if i > 2  and i < 16 and i <= len(tr) :\n",
    "        if i == 8 or i == 9 or i == 10 :\n",
    "            continue\n",
    "        j = 0           \n",
    "        dic = {}\n",
    "\n",
    "        for td in tr :\n",
    "            \n",
    "            j = j + 1\n",
    "            if j == 2 :\n",
    "                date = str(td.span.text)\n",
    "                dic['date'] = date\n",
    "            if j == 4 :\n",
    "                price = str(td.span.text)\n",
    "                dic['price'] = int(price.replace(',',''))\n",
    "            if j == 6 :\n",
    "                change = str(td.span.text).strip()\n",
    "                if change != '0' :\n",
    "                    if td.img['src'].endswith('ico_up.gif') or td.img['src'].endswith('ico_up2.gif') :\n",
    "                        dic['change'] = int(change.replace(',',''))\n",
    "                    else :\n",
    "                        dic['change'] = -1 * int(change.replace(',',''))\n",
    "        list.append(dic)"
   ]
  },
  {
   "cell_type": "code",
   "execution_count": 452,
   "metadata": {
    "collapsed": false
   },
   "outputs": [
    {
     "data": {
      "text/plain": [
       "40"
      ]
     },
     "execution_count": 452,
     "metadata": {},
     "output_type": "execute_result"
    }
   ],
   "source": [
    "len(list)"
   ]
  },
  {
   "cell_type": "code",
   "execution_count": 453,
   "metadata": {
    "collapsed": false
   },
   "outputs": [
    {
     "data": {
      "text/plain": [
       "{'change': 72000, 'date': '2016.10.06', 'price': 1691000}"
      ]
     },
     "execution_count": 453,
     "metadata": {},
     "output_type": "execute_result"
    }
   ],
   "source": [
    "list[3]"
   ]
  },
  {
   "cell_type": "code",
   "execution_count": 454,
   "metadata": {
    "collapsed": false
   },
   "outputs": [],
   "source": [
    "# 하루 등락률이 10프로 하락하는 지점을 찾는다. 하락을 했다면 그날의 시가를 가지고 향후 언제 그 가격을 넘어서는지를 찾을 것이다.\n",
    "# 전날 종가를 기준으로 등락률을 매기는게 맞는데 그냥 당일 종가와 등락 가격을 가지고 퍼센티지를 계산함.\n",
    "\n",
    "fileter_list = []\n",
    "for day in list :\n",
    "    #print(day['date'] +  \" : \" + str(day['price']) + \" : \" + str(day['change']))\n",
    "    percent = ( day['price'] + day['change'] ) / day['price']  * 100 - 100\n",
    "    #print(day['date'] + \" : \" + str(percent))\n",
    "    if percent < -5 :\n",
    "        fileter_list.append(day)\n",
    "        "
   ]
  },
  {
   "cell_type": "code",
   "execution_count": 455,
   "metadata": {
    "collapsed": false
   },
   "outputs": [
    {
     "data": {
      "text/plain": [
       "[{'change': -135000, 'date': '2016.10.11', 'price': 1545000},\n",
       " {'change': -110000, 'date': '2016.09.12', 'price': 1465000}]"
      ]
     },
     "execution_count": 455,
     "metadata": {},
     "output_type": "execute_result"
    }
   ],
   "source": [
    "# 그래서 우선 list를 filter해서 가지고 있고 그 시가를 가지고 있는 list를 만들 것이다. 그리고 이 filtered_list를 가지고 다시 원래의 list \n",
    "fileter_list"
   ]
  },
  {
   "cell_type": "code",
   "execution_count": 458,
   "metadata": {
    "collapsed": false
   },
   "outputs": [],
   "source": [
    "# 그다음 이시기에 어떤 뉴스가 있었는지를 찾기 위해서 네이버 증권의 뉴스데이터를 이용한다.\n",
    "news_domain = 'http://finance.naver.com/item/news_news.nhn?code=005930'\n",
    "news_domain_with_pageNo = 'http://finance.naver.com/item/news_news.nhn?code=005930&page='\n",
    "\n",
    "source_code = requests.get(news_domain, timeout=None)\n",
    "soup = BeautifulSoup(source_code.text,  'lxml')\n",
    "\n",
    "tableSoup = soup.find('table', attrs={'class', 'Nnavi'} )\n",
    "td = tableSoup.find('td', attrs={'class','pgRR'}).a['href']\n",
    "last_page_index = int(td[td.index('page=') + 5:])"
   ]
  },
  {
   "cell_type": "code",
   "execution_count": 459,
   "metadata": {
    "collapsed": false
   },
   "outputs": [],
   "source": [
    "new_list = []\n",
    "\n",
    "#for page in range(1,last_page_index) :\n",
    "for page in range(1,3) :\n",
    "    url = news_domain_with_pageNo + str(page)\n",
    "    source_code = requests.get(url, timeout=None)\n",
    "    soup = BeautifulSoup(source_code.text,  'lxml')\n",
    "\n",
    "    newsTabelSoup = soup.find('table', attrs={'class', 'type2'} )\n",
    "    trSoup = newsTabelSoup.find_all('tr')\n",
    "\n",
    "    i = 0\n",
    "    rowcount =0;\n",
    "    \n",
    "    for tr in  trSoup :\n",
    "        i = i + 1\n",
    "        if i > 2  and i < 16 :\n",
    "            if i == 8 or i == 9 :\n",
    "                continue\n",
    "            j = 0           \n",
    "            dic = {}\n",
    "        \n",
    "            for td in tr :    \n",
    "                j = j + 1\n",
    "                if j == 2 :\n",
    "                    dic['date'] = str(td.span.text)\n",
    "                if j == 4 :\n",
    "                    dic['title'] = td.a.text\n",
    "                if j == 6 :\n",
    "                    dic['publish'] = td.text\n",
    "            new_list.append(dic)"
   ]
  },
  {
   "cell_type": "code",
   "execution_count": 460,
   "metadata": {
    "collapsed": false,
    "scrolled": false
   },
   "outputs": [
    {
     "data": {
      "text/plain": [
       "[{'date': '2016.10.11 22:17',\n",
       "  'publish': '파이낸셜뉴스',\n",
       "  'title': '삼성, ‘아틱’ 앞세워 IoT 패권 잡는다'},\n",
       " {'date': '2016.10.11 21:54',\n",
       "  'publish': '파이낸셜뉴스',\n",
       "  'title': '[갤노트7 판매중단] 갤노트7 13일부터 갤S7으로 교...'},\n",
       " {'date': '2016.10.11 21:41',\n",
       "  'publish': '파이낸셜뉴스',\n",
       "  'title': '[갤노트7 판매중단] 갤노트7 사태 계열사로 확산.. ...'},\n",
       " {'date': '2016.10.11 20:11',\n",
       "  'publish': '이데일리',\n",
       "  'title': '[그래픽]주가 추이로 보는 갤노트7 출시부터 단종까지'},\n",
       " {'date': '2016.10.11 20:09',\n",
       "  'publish': '아시아경제',\n",
       "  'title': '갤럭시노트7 단종…출시 2개월만 \"연말까지 교환·환불\"...'},\n",
       " {'date': '2016.10.11 19:50',\n",
       "  'publish': '이데일리',\n",
       "  'title': '[일지]갤노트7 출시부터 단종까지'},\n",
       " {'date': '2016.10.11 19:01',\n",
       "  'publish': '머니투데이',\n",
       "  'title': \"'단종' 갤노트7 소비자, 교환·환불은 어떻게?\"},\n",
       " {'date': '2016.10.11 18:48',\n",
       "  'publish': '이데일리',\n",
       "  'title': \"[갤노트7 단종]안전당국 발표 전 '결단'..삼성 위기...\"},\n",
       " {'date': '2016.10.11 18:42',\n",
       "  'publish': '헤럴드경제',\n",
       "  'title': '삼성전자 갤노트7 단종 공식화…13일부터 제품 교환 환...'},\n",
       " {'date': '2016.10.11 18:38',\n",
       "  'publish': '파이낸셜뉴스',\n",
       "  'title': '갤노트7, 13일부터 교환-환불 시작.. 교환 시 차액...'},\n",
       " {},\n",
       " {'date': '2016.10.11 18:17',\n",
       "  'publish': '머니투데이',\n",
       "  'title': '삼성전자 \\'갤럭시노트7\\' 단종… \"고객안전 최우선\"'},\n",
       " {'date': '2016.10.11 18:14',\n",
       "  'publish': '머니투데이',\n",
       "  'title': '삼성, \\'갤노트7\\' 단종… \"판매 중단\" 결정(1보)'},\n",
       " {'date': '2016.10.11 18:10',\n",
       "  'publish': '아시아경제',\n",
       "  'title': '삼성전자, 갤럭시노트7 생산 및 판매 중단 결정'},\n",
       " {'date': '2016.10.11 18:10',\n",
       "  'publish': '서울경제',\n",
       "  'title': '삼성전자 “갤럭시노트7 생산·판매 중단 결정”'},\n",
       " {'date': '2016.10.11 18:09',\n",
       "  'publish': '머니투데이',\n",
       "  'title': \"삼성전자 '갤노트7' 13일부터 연말까지 교환·환불\"},\n",
       " {'date': '2016.10.11 18:07',\n",
       "  'publish': '이데일리',\n",
       "  'title': '삼성전자 “갤럭시노트7 단종 결정”'},\n",
       " {'date': '2016.10.11 18:03',\n",
       "  'publish': '파이낸셜뉴스',\n",
       "  'title': \"영화 'HER'속 사만다처럼 인간과 교감하는 AI 만든...\"},\n",
       " {'date': '2016.10.11 18:01',\n",
       "  'publish': '머니투데이',\n",
       "  'title': \"비운의 '갤럭시노트7', 삼성 4분기 실적 '비상'\"},\n",
       " {'date': '2016.10.11 18:00',\n",
       "  'publish': '매일경제',\n",
       "  'title': '삼성전자, ‘갤노트7’ 교환·환불 연말까지 진행'},\n",
       " {'date': '2016.10.11 18:00',\n",
       "  'publish': '파이낸셜뉴스',\n",
       "  'title': \"삼성, '아틱' 앞세워 IoT 패권 잡는다\"},\n",
       " {}]"
      ]
     },
     "execution_count": 460,
     "metadata": {},
     "output_type": "execute_result"
    }
   ],
   "source": [
    "new_list"
   ]
  }
 ],
 "metadata": {
  "kernelspec": {
   "display_name": "Python 3",
   "language": "python",
   "name": "python3"
  },
  "language_info": {
   "codemirror_mode": {
    "name": "ipython",
    "version": 3
   },
   "file_extension": ".py",
   "mimetype": "text/x-python",
   "name": "python",
   "nbconvert_exporter": "python",
   "pygments_lexer": "ipython3",
   "version": "3.5.2"
  }
 },
 "nbformat": 4,
 "nbformat_minor": 1
}
